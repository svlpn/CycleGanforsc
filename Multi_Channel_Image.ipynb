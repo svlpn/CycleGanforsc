{
  "nbformat": 4,
  "nbformat_minor": 0,
  "metadata": {
    "colab": {
      "name": "Multi-Channel Image.ipynb",
      "provenance": [],
      "authorship_tag": "ABX9TyP4nHb+4tXaYKHnVGSXAd9l",
      "include_colab_link": true
    },
    "kernelspec": {
      "display_name": "Python 3",
      "name": "python3"
    },
    "language_info": {
      "name": "python"
    }
  },
  "cells": [
    {
      "cell_type": "markdown",
      "metadata": {
        "id": "view-in-github",
        "colab_type": "text"
      },
      "source": [
        "<a href=\"https://colab.research.google.com/github/svlpn/CycleGanforsc/blob/main/Multi_Channel_Image.ipynb\" target=\"_parent\"><img src=\"https://colab.research.google.com/assets/colab-badge.svg\" alt=\"Open In Colab\"/></a>"
      ]
    },
    {
      "cell_type": "code",
      "metadata": {
        "id": "KHvvQSe8_onO"
      },
      "source": [
        " from osgeo import gdal \n",
        " import numpy as np "
      ],
      "execution_count": null,
      "outputs": []
    },
    {
      "cell_type": "code",
      "metadata": {
        "id": "YMl77GMu5xme"
      },
      "source": [
        "### Разбиение изображения на несколько\n",
        "from PIL import Image\n",
        "\n",
        "im = Image.open(\"image.bmp\")\n",
        "pixels = im.load()  # список с пикселями\n",
        "x, y = im.size  # ширина (x) и высота (y) изображения\n",
        "\n",
        "for i in range(4):\n",
        "    for j in range(4):\n",
        "        if i!=4 and j!=4:\n",
        "            im.crop(box=(x/4*i, y/4*j, x/4*(i+1)-1, y/4*(j+1)-1)).\\\n",
        "            save('image{0}{0}.bmp'.format(str(i+1), str(j+1)))"
      ],
      "execution_count": null,
      "outputs": []
    },
    {
      "cell_type": "code",
      "metadata": {
        "id": "85D9Hn5AIAvN"
      },
      "source": [
        "import numpy as np\n",
        "from PIL import Image"
      ],
      "execution_count": null,
      "outputs": []
    },
    {
      "cell_type": "code",
      "metadata": {
        "colab": {
          "base_uri": "https://localhost:8080/"
        },
        "id": "uIREyu0EhR96",
        "outputId": "f962d814-c584-4034-bd35-83594d366e0e"
      },
      "source": [
        "im = Image.open('S2A_MSIL1C_T37UET_2020_F22C00_B12_20200627T082611_P20200627T100852.tif')\n",
        "x = 2^16\n",
        "imarray = np.array(im)\n",
        "print(imarray.max())\n",
        "imarray = (imarray * 1/x *1.5).clip(0,255)\n",
        "print(imarray)\n",
        "imarray  = imarray.astype('uint8')\n",
        "B12 = imarray\n",
        "imarray = Image.fromarray(imarray)\n",
        "imarray.save('B12.png')"
      ],
      "execution_count": null,
      "outputs": [
        {
          "name": "stdout",
          "output_type": "stream",
          "text": [
            "14228\n",
            "[[106.83333333 105.66666667 108.75       ...  76.91666667  89.5\n",
            "   86.58333333]\n",
            " [103.58333333 104.16666667 104.58333333 ...  65.66666667  65.\n",
            "   67.75      ]\n",
            " [102.5        102.33333333 102.33333333 ...  72.16666667  73.91666667\n",
            "   69.66666667]\n",
            " ...\n",
            " [ 37.25        44.91666667  52.75       ... 168.83333333 169.16666667\n",
            "  169.83333333]\n",
            " [ 40.5         47.75        50.91666667 ... 169.91666667 169.5\n",
            "  169.25      ]\n",
            " [ 49.16666667  54.83333333  56.91666667 ... 169.58333333 168.08333333\n",
            "  167.        ]]\n"
          ]
        }
      ]
    },
    {
      "cell_type": "code",
      "metadata": {
        "id": "2fRIxHC4bgLq"
      },
      "source": [
        "#normalizing\n",
        "mea = B12.mean() / B5.mean()\n",
        "B12m = B12/mea\n",
        "B12m  = B12m.astype('uint8')"
      ],
      "execution_count": null,
      "outputs": []
    },
    {
      "cell_type": "code",
      "metadata": {
        "id": "6rLYWTKW_s_e"
      },
      "source": [
        "#merge\n",
        "img = cv2.merge((B06,B05,B8A))\n",
        "ggg = Image.fromarray(img)\n",
        "#cv2.imwrite('last.png',ggg)\n",
        "ggg.save('Beee.png')"
      ],
      "execution_count": null,
      "outputs": []
    }
  ]
}